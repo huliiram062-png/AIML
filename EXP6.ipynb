{
 "cells": [
  {
   "cell_type": "code",
   "execution_count": 14,
   "id": "cd607739",
   "metadata": {},
   "outputs": [
    {
     "name": "stdout",
     "output_type": "stream",
     "text": [
      "[ 4  6  5  5 10]\n"
     ]
    }
   ],
   "source": [
    "import numpy as np\n",
    "demo1=np.array([1,2,3,4,5])\n",
    "demo2=np.array([3,4,2,1,5])\n",
    "res=np.array(list(map(lambda x,y:x+y, demo1,demo2)))\n",
    "print(res)\n"
   ]
  },
  {
   "cell_type": "code",
   "execution_count": 2,
   "id": "3f093bce",
   "metadata": {},
   "outputs": [
    {
     "name": "stdout",
     "output_type": "stream",
     "text": [
      "result of using numpy lambda 15\n"
     ]
    }
   ],
   "source": [
    "import numpy as np\n",
    "from functools import reduce\n",
    "demo1=np.array([1,2,3,4,5])\n",
    "demo2=np.array([3,4,2,1,5])\n",
    "res_reduce=reduce(lambda x,y:x+y,demo2)\n",
    "print(\"result of using numpy lambda\",res_reduce)"
   ]
  },
  {
   "cell_type": "code",
   "execution_count": 16,
   "id": "63694413",
   "metadata": {},
   "outputs": [
    {
     "name": "stdout",
     "output_type": "stream",
     "text": [
      "[ 1  4  9 16 25]\n"
     ]
    }
   ],
   "source": [
    "import numpy as np\n",
    "demo1=np.array([1,2,3,4,5])\n",
    "demo2=np.array([3,4,2,1,5])\n",
    "def square(x):\n",
    "    return x**2\n",
    "rect_square=np.vectorize(square)\n",
    "apply_square=rect_square(demo1)\n",
    "print(apply_square)"
   ]
  },
  {
   "cell_type": "code",
   "execution_count": 9,
   "id": "b05a6cb8",
   "metadata": {},
   "outputs": [
    {
     "name": "stdout",
     "output_type": "stream",
     "text": [
      "mapped vaiues 0    422\n",
      "1    382\n",
      "2    392\n",
      "Name: A_mapped, dtype: int64\n"
     ]
    }
   ],
   "source": [
    "import pandas as pd \n",
    "data={'A':[420,380,390],'B':[50,40,45]}\n",
    "df=pd.DataFrame(data)\n",
    "df['A_mapped']=df['A'].map(lambda x:x+2)\n",
    "print(\"mapped vaiues\",df['A_mapped'])"
   ]
  },
  {
   "cell_type": "code",
   "execution_count": 10,
   "id": "ec137867",
   "metadata": {},
   "outputs": [
    {
     "name": "stdout",
     "output_type": "stream",
     "text": [
      "     A   B\n",
      "0  420  50\n",
      "1  380  40\n",
      "2  390  45\n",
      "sum of A&B using apply: 0    470\n",
      "1    420\n",
      "2    435\n",
      "Name: sum, dtype: int64\n"
     ]
    }
   ],
   "source": [
    "import pandas as pd \n",
    "data={'A':[420,380,390],'B':[50,40,45]}\n",
    "df=pd.DataFrame(data)\n",
    "print(df)\n",
    "df['sum']=df.apply(lambda row:row['A']+row['B'],axis=1)\n",
    "print(\"sum of A&B using apply:\",df['sum'])"
   ]
  },
  {
   "cell_type": "code",
   "execution_count": 12,
   "id": "460d7fc0",
   "metadata": {},
   "outputs": [
    {
     "name": "stdout",
     "output_type": "stream",
     "text": [
      "     A   B\n",
      "0  420  50\n",
      "1  380  40\n",
      "2  390  45\n",
      "135\n"
     ]
    }
   ],
   "source": [
    "import pandas as pd \n",
    "from functools import reduce\n",
    "data={'A':[420,380,390],'B':[50,40,45]}\n",
    "df=pd.DataFrame(data)\n",
    "print(df)\n",
    "res_reduce=reduce(lambda x,y:x+y,df['B'])\n",
    "print(res_reduce)\n",
    "\n"
   ]
  }
 ],
 "metadata": {
  "kernelspec": {
   "display_name": "spyder-runtime",
   "language": "python",
   "name": "python3"
  },
  "language_info": {
   "codemirror_mode": {
    "name": "ipython",
    "version": 3
   },
   "file_extension": ".py",
   "mimetype": "text/x-python",
   "name": "python",
   "nbconvert_exporter": "python",
   "pygments_lexer": "ipython3",
   "version": "3.11.10"
  }
 },
 "nbformat": 4,
 "nbformat_minor": 5
}
